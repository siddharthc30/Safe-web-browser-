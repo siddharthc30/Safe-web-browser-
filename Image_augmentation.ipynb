{
 "cells": [
  {
   "cell_type": "code",
   "execution_count": 14,
   "metadata": {},
   "outputs": [],
   "source": [
    "import os\n",
    "import matplotlib.image as mpimage\n",
    "\n",
    "from keras.preprocessing.image import ImageDataGenerator\n",
    "\n",
    "\n",
    "datagen = ImageDataGenerator(zoom_range=0.2)\n",
    "Dir='/home/siddharth/Documents/ML data/gore class'\n",
    "images=os.listdir(Dir)\n",
    "for f in images:  \n",
    "    x = mpimage.imread(os.path.join(Dir,f)) \n",
    "    # Reshape the input image \n",
    "    x = x.reshape((1, ) + x.shape)  \n",
    "    i = 0\n",
    "\n",
    "    # generate 5 new augmented images \n",
    "    for batch in datagen.flow(x, batch_size = 1, \n",
    "                      save_to_dir ='/home/siddharth/Documents/ML data/augment',  \n",
    "                      save_prefix ='gore', save_format ='jpg'):\n",
    "        i += 1\n",
    "        if i > 5: \n",
    "            break"
   ]
  },
  {
   "cell_type": "code",
   "execution_count": null,
   "metadata": {},
   "outputs": [],
   "source": []
  }
 ],
 "metadata": {
  "kernelspec": {
   "display_name": "Python 3",
   "language": "python",
   "name": "python3"
  },
  "language_info": {
   "codemirror_mode": {
    "name": "ipython",
    "version": 3
   },
   "file_extension": ".py",
   "mimetype": "text/x-python",
   "name": "python",
   "nbconvert_exporter": "python",
   "pygments_lexer": "ipython3",
   "version": "3.7.6"
  }
 },
 "nbformat": 4,
 "nbformat_minor": 4
}
